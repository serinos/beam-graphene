{
 "cells": [
  {
   "cell_type": "markdown",
   "metadata": {},
   "source": [
    "### Checking $d_{tot} \\approx w$ cases"
   ]
  },
  {
   "cell_type": "code",
   "execution_count": 1,
   "metadata": {},
   "outputs": [],
   "source": [
    "from beam import *\n",
    "from tests import *"
   ]
  },
  {
   "cell_type": "code",
   "execution_count": 2,
   "metadata": {},
   "outputs": [
    {
     "data": {
      "text/html": [
       "<div>\n",
       "<style scoped>\n",
       "    .dataframe tbody tr th:only-of-type {\n",
       "        vertical-align: middle;\n",
       "    }\n",
       "\n",
       "    .dataframe tbody tr th {\n",
       "        vertical-align: top;\n",
       "    }\n",
       "\n",
       "    .dataframe thead th {\n",
       "        text-align: right;\n",
       "    }\n",
       "</style>\n",
       "<table border=\"1\" class=\"dataframe\">\n",
       "  <thead>\n",
       "    <tr style=\"text-align: right;\">\n",
       "      <th></th>\n",
       "      <th>E_p</th>\n",
       "      <th>w</th>\n",
       "      <th>d_tot</th>\n",
       "      <th>p_gph</th>\n",
       "      <th>err_pc_at_max</th>\n",
       "      <th>err_pc_at_min</th>\n",
       "    </tr>\n",
       "  </thead>\n",
       "  <tbody>\n",
       "    <tr>\n",
       "      <th>0</th>\n",
       "      <td>0.00100</td>\n",
       "      <td>20.0</td>\n",
       "      <td>20.0</td>\n",
       "      <td>0.3</td>\n",
       "      <td>-0.002394</td>\n",
       "      <td>-0.014637</td>\n",
       "    </tr>\n",
       "    <tr>\n",
       "      <th>1</th>\n",
       "      <td>0.00100</td>\n",
       "      <td>20.0</td>\n",
       "      <td>20.0</td>\n",
       "      <td>0.7</td>\n",
       "      <td>-0.011648</td>\n",
       "      <td>-0.024200</td>\n",
       "    </tr>\n",
       "    <tr>\n",
       "      <th>2</th>\n",
       "      <td>0.00001</td>\n",
       "      <td>20.0</td>\n",
       "      <td>20.0</td>\n",
       "      <td>0.3</td>\n",
       "      <td>-0.007368</td>\n",
       "      <td>-0.020445</td>\n",
       "    </tr>\n",
       "    <tr>\n",
       "      <th>3</th>\n",
       "      <td>0.00001</td>\n",
       "      <td>20.0</td>\n",
       "      <td>20.0</td>\n",
       "      <td>0.7</td>\n",
       "      <td>-0.023287</td>\n",
       "      <td>-0.036832</td>\n",
       "    </tr>\n",
       "  </tbody>\n",
       "</table>\n",
       "</div>"
      ],
      "text/plain": [
       "       E_p     w  d_tot  p_gph  err_pc_at_max  err_pc_at_min\n",
       "0  0.00100  20.0   20.0    0.3      -0.002394      -0.014637\n",
       "1  0.00100  20.0   20.0    0.7      -0.011648      -0.024200\n",
       "2  0.00001  20.0   20.0    0.3      -0.007368      -0.020445\n",
       "3  0.00001  20.0   20.0    0.7      -0.023287      -0.036832"
      ]
     },
     "execution_count": 2,
     "metadata": {},
     "output_type": "execute_result"
    }
   ],
   "source": [
    "generic_tester_Eenc(E_p_vals=[0.001,0.00001], w_vals=[20], d_tot_vals=[20], p_gph_vals=[0.3,0.7])"
   ]
  },
  {
   "cell_type": "code",
   "execution_count": 3,
   "metadata": {},
   "outputs": [
    {
     "data": {
      "text/html": [
       "<div>\n",
       "<style scoped>\n",
       "    .dataframe tbody tr th:only-of-type {\n",
       "        vertical-align: middle;\n",
       "    }\n",
       "\n",
       "    .dataframe tbody tr th {\n",
       "        vertical-align: top;\n",
       "    }\n",
       "\n",
       "    .dataframe thead th {\n",
       "        text-align: right;\n",
       "    }\n",
       "</style>\n",
       "<table border=\"1\" class=\"dataframe\">\n",
       "  <thead>\n",
       "    <tr style=\"text-align: right;\">\n",
       "      <th></th>\n",
       "      <th>E_p</th>\n",
       "      <th>w</th>\n",
       "      <th>d_tot</th>\n",
       "      <th>p_gph</th>\n",
       "      <th>err_pc_at_max</th>\n",
       "      <th>err_pc_at_min</th>\n",
       "    </tr>\n",
       "  </thead>\n",
       "  <tbody>\n",
       "    <tr>\n",
       "      <th>0</th>\n",
       "      <td>0.00100</td>\n",
       "      <td>20.0</td>\n",
       "      <td>20.0</td>\n",
       "      <td>0.2</td>\n",
       "      <td>-0.001233</td>\n",
       "      <td>-0.010108</td>\n",
       "    </tr>\n",
       "    <tr>\n",
       "      <th>1</th>\n",
       "      <td>0.00100</td>\n",
       "      <td>20.0</td>\n",
       "      <td>20.0</td>\n",
       "      <td>0.8</td>\n",
       "      <td>-0.018427</td>\n",
       "      <td>-0.027400</td>\n",
       "    </tr>\n",
       "    <tr>\n",
       "      <th>2</th>\n",
       "      <td>0.00001</td>\n",
       "      <td>20.0</td>\n",
       "      <td>20.0</td>\n",
       "      <td>0.2</td>\n",
       "      <td>-0.004514</td>\n",
       "      <td>-0.013986</td>\n",
       "    </tr>\n",
       "    <tr>\n",
       "      <th>3</th>\n",
       "      <td>0.00001</td>\n",
       "      <td>20.0</td>\n",
       "      <td>20.0</td>\n",
       "      <td>0.8</td>\n",
       "      <td>-0.032690</td>\n",
       "      <td>-0.042305</td>\n",
       "    </tr>\n",
       "  </tbody>\n",
       "</table>\n",
       "</div>"
      ],
      "text/plain": [
       "       E_p     w  d_tot  p_gph  err_pc_at_max  err_pc_at_min\n",
       "0  0.00100  20.0   20.0    0.2      -0.001233      -0.010108\n",
       "1  0.00100  20.0   20.0    0.8      -0.018427      -0.027400\n",
       "2  0.00001  20.0   20.0    0.2      -0.004514      -0.013986\n",
       "3  0.00001  20.0   20.0    0.8      -0.032690      -0.042305"
      ]
     },
     "execution_count": 3,
     "metadata": {},
     "output_type": "execute_result"
    }
   ],
   "source": [
    "generic_tester_Eenc(E_p_vals=[0.001,0.00001], w_vals=[20], d_tot_vals=[20], p_gph_vals=[0.2,0.8])"
   ]
  },
  {
   "cell_type": "code",
   "execution_count": 4,
   "metadata": {},
   "outputs": [
    {
     "data": {
      "text/html": [
       "<div>\n",
       "<style scoped>\n",
       "    .dataframe tbody tr th:only-of-type {\n",
       "        vertical-align: middle;\n",
       "    }\n",
       "\n",
       "    .dataframe tbody tr th {\n",
       "        vertical-align: top;\n",
       "    }\n",
       "\n",
       "    .dataframe thead th {\n",
       "        text-align: right;\n",
       "    }\n",
       "</style>\n",
       "<table border=\"1\" class=\"dataframe\">\n",
       "  <thead>\n",
       "    <tr style=\"text-align: right;\">\n",
       "      <th></th>\n",
       "      <th>E_p</th>\n",
       "      <th>w</th>\n",
       "      <th>d_tot</th>\n",
       "      <th>p_gph</th>\n",
       "      <th>err_pc_at_max</th>\n",
       "      <th>err_pc_at_min</th>\n",
       "    </tr>\n",
       "  </thead>\n",
       "  <tbody>\n",
       "    <tr>\n",
       "      <th>0</th>\n",
       "      <td>0.00100</td>\n",
       "      <td>30.0</td>\n",
       "      <td>30.0</td>\n",
       "      <td>0.2</td>\n",
       "      <td>0.003971</td>\n",
       "      <td>-0.004124</td>\n",
       "    </tr>\n",
       "    <tr>\n",
       "      <th>1</th>\n",
       "      <td>0.00100</td>\n",
       "      <td>30.0</td>\n",
       "      <td>30.0</td>\n",
       "      <td>0.8</td>\n",
       "      <td>0.003801</td>\n",
       "      <td>-0.004386</td>\n",
       "    </tr>\n",
       "    <tr>\n",
       "      <th>2</th>\n",
       "      <td>0.00001</td>\n",
       "      <td>30.0</td>\n",
       "      <td>30.0</td>\n",
       "      <td>0.2</td>\n",
       "      <td>0.009475</td>\n",
       "      <td>-0.001717</td>\n",
       "    </tr>\n",
       "    <tr>\n",
       "      <th>3</th>\n",
       "      <td>0.00001</td>\n",
       "      <td>30.0</td>\n",
       "      <td>30.0</td>\n",
       "      <td>0.8</td>\n",
       "      <td>0.021408</td>\n",
       "      <td>0.010061</td>\n",
       "    </tr>\n",
       "  </tbody>\n",
       "</table>\n",
       "</div>"
      ],
      "text/plain": [
       "       E_p     w  d_tot  p_gph  err_pc_at_max  err_pc_at_min\n",
       "0  0.00100  30.0   30.0    0.2       0.003971      -0.004124\n",
       "1  0.00100  30.0   30.0    0.8       0.003801      -0.004386\n",
       "2  0.00001  30.0   30.0    0.2       0.009475      -0.001717\n",
       "3  0.00001  30.0   30.0    0.8       0.021408       0.010061"
      ]
     },
     "execution_count": 4,
     "metadata": {},
     "output_type": "execute_result"
    }
   ],
   "source": [
    "generic_tester_Eenc(E_p_vals=[0.001,0.00001], w_vals=[30], d_tot_vals=[30], p_gph_vals=[0.2,0.8])"
   ]
  },
  {
   "cell_type": "markdown",
   "metadata": {},
   "source": [
    "### Checking whether local minima for loss ratio crop up in the sim other than arbitrarily large/small $E_p$ vals"
   ]
  },
  {
   "cell_type": "code",
   "execution_count": 2,
   "metadata": {},
   "outputs": [
    {
     "name": "stdout",
     "output_type": "stream",
     "text": [
      "[Info] width_config=(2.325, 9.3) in progress\n",
      "Data dump:\n",
      "[0.0046472647, 0.0046472824, 0.0046472405, 0.004647218, 0.004647023, 0.0046446067, 0.0046214773, 0.0044348426, 0.0038287323, 0.0033875331, 0.0032749104, 0.0032560562, 0.00325354, 0.0032531586, 0.0032531281, 0.0032530916, 0.0032530914, 0.0032530604, 0.0032530478, 0.0032531477, 0.003253036, 0.0032530741, 0.0032530539, 0.0032530373]\n",
      "[0.0046472647, 0.0046472824, 0.0046472405, 0.004647218, 0.004647023, 0.0046446067, 0.0046214773, 0.0044348426, 0.0038287323, 0.0033875331, 0.0032749104, 0.0032560562, 0.00325354, 0.0032531586, 0.0032531281, 0.0032530916, 0.0032530914, 0.0032530604, 0.0032530478, 0.0032531477, 0.003253036, 0.0032530741, 0.0032530539, 0.0032530373]\n"
     ]
    }
   ],
   "source": [
    "# E_p mod depth calculation code\n",
    "Einput_list = [10**i for i in range(-11,13)]  #uJ\n",
    "abl = 9.3  # Micromachine ablation thickness, um\n",
    "width_config_list = [(2.325,abl)]  # (Filled, ablated) for 80% ablated through 0% ablated, unit:um\n",
    "w_val = 34  # um\n",
    "res = 25  # per um\n",
    "threshold_fac = 1e-26  # Tuning factor for threshold wrt Einput, by doing this, err pc in Einput stays at the same scale for any Einput\n",
    "                       # 1e-26 gives the least error a.k.a np.abs((Einput-integrate_for_energy(ee))/Einput) for res=25\n",
    "alert_threshold_for_Einput = 0.0005\n",
    "min_max_for_width_gap_center = []\n",
    "min_max_for_width_gra_center = []\n",
    "\n",
    "for width_config in width_config_list:\n",
    "    print(f\"[Info] width_config={width_config} in progress\")\n",
    "    tmp_loss_rat_gap = []\n",
    "    tmp_loss_rat_gra = []\n",
    "    for Einput in Einput_list:\n",
    "        ee = beam_initialize_fast(res=res, threshold=Einput*threshold_fac, w=w_val, Ep=Einput)\n",
    "        Einput_actual = integrate_for_energy(ee)\n",
    "        if (Einput-integrate_for_energy(ee))/Einput > alert_threshold_for_Einput:\n",
    "            print(f\"[Warning] alert_threshold_for_Einput exceeded for Einput={Einput}\")\n",
    "        else:\n",
    "            pass\n",
    "        mm_gap_center = mask_initialize(beam=ee, shape='lines', width=width_config[0], thickness=width_config[1], min_max=False)\n",
    "        mm_gra_center = mask_initialize(beam=ee, shape='lines', width=width_config[0], thickness=width_config[1], min_max=True)\n",
    "        loss_rat_gap_center = (Einput_actual-integrate_for_energy(mask_apply(ee,mm_gap_center)))/Einput_actual\n",
    "        loss_rat_gra_center = (Einput_actual-integrate_for_energy(mask_apply(ee,mm_gra_center)))/Einput_actual\n",
    "        tmp_loss_rat_gap.append(loss_rat_gap_center)\n",
    "        tmp_loss_rat_gra.append(loss_rat_gra_center)\n",
    "    ###\n",
    "    print(\"Data dump:\")\n",
    "    print(tmp_loss_rat_gap)\n",
    "    print(tmp_loss_rat_gra)\n",
    "    ###\n",
    "    min_max_for_width_gap_center.append([min(tmp_loss_rat_gap), max(tmp_loss_rat_gap)])\n",
    "    min_max_for_width_gra_center.append([min(tmp_loss_rat_gra), max(tmp_loss_rat_gra)])\n",
    "#####\n",
    "# Note after calcs: Even though the decrease is not monotonic, it doesn't seem that the bumps are significant, the sequences appear\n",
    "# to be monotonic up to 4 sigfigs"
   ]
  },
  {
   "cell_type": "code",
   "execution_count": 3,
   "metadata": {},
   "outputs": [
    {
     "name": "stdout",
     "output_type": "stream",
     "text": [
      "15.000666836139573\n"
     ]
    }
   ],
   "source": [
    "for val in min_max_for_width_gap_center:\n",
    "    ave = (min(val)+max(val))/2\n",
    "    print(100*(max(val)-ave)/max(val))"
   ]
  },
  {
   "cell_type": "code",
   "execution_count": null,
   "metadata": {},
   "outputs": [],
   "source": []
  }
 ],
 "metadata": {
  "kernelspec": {
   "display_name": "Python 3",
   "language": "python",
   "name": "python3"
  },
  "language_info": {
   "codemirror_mode": {
    "name": "ipython",
    "version": 3
   },
   "file_extension": ".py",
   "mimetype": "text/x-python",
   "name": "python",
   "nbconvert_exporter": "python",
   "pygments_lexer": "ipython3",
   "version": "3.8.10"
  }
 },
 "nbformat": 4,
 "nbformat_minor": 4
}
